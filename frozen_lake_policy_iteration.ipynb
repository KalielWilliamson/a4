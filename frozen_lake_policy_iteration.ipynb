{
 "cells": [
  {
   "cell_type": "code",
   "execution_count": 7,
   "outputs": [
    {
     "name": "stderr",
     "output_type": "stream",
     "text": [
      "D:\\conda\\MDP\\lib\\site-packages\\gym\\envs\\registration.py:216: UserWarning: \u001B[33mWARN: Overriding environment D8x8-FrozenLake-v0\u001B[0m\n",
      "  logger.warn(\"Overriding environment {}\".format(id))\n"
     ]
    }
   ],
   "source": [
    "import itertools\n",
    "import json\n",
    "import time\n",
    "\n",
    "import gym\n",
    "import tqdm\n",
    "from gym.envs.registration import register\n",
    "register(\n",
    "    id='D8x8-FrozenLake-v0',\n",
    "    entry_point='gym.envs.toy_text.frozen_lake:FrozenLakeEnv',\n",
    "    kwargs={'map_name': '8x8',\n",
    "            'is_slippery': True})"
   ],
   "metadata": {
    "collapsed": false,
    "pycharm": {
     "name": "#%%\n"
    }
   }
  },
  {
   "cell_type": "code",
   "execution_count": 3,
   "outputs": [],
   "source": [
    "%matplotlib inline\n",
    "import seaborn\n",
    "import matplotlib.pyplot as plt\n",
    "import numpy as np\n",
    "import math\n",
    "def fancy_visual(value_func,policy_int):    \n",
    "    grid = 4\n",
    "    f, ax = plt.subplots(figsize=(11, 9))\n",
    "    cmap = seaborn.diverging_palette(220, 10, as_cmap=True)\n",
    "    reshaped=np.reshape(value_func,(grid,grid))\n",
    "    seaborn.heatmap(reshaped, cmap=cmap, vmax=1.1,\n",
    "                square=True, xticklabels=grid+1, yticklabels=grid+1,\n",
    "                linewidths=.5, cbar_kws={\"shrink\": .5}, ax=ax, annot=True, fmt=\"f\")\n",
    "    counter=0\n",
    "    for j in range(0, 8):\n",
    "        for i in range(0, 8):\n",
    "            if policy_int[counter]==1:\n",
    "                plt.text(i+0.5, j+0.7, u'\\u2193', fontsize=12)\n",
    "            elif policy_int[counter]==3:\n",
    "                plt.text(i+0.5, j+0.7, u'\\u2191', fontsize=12)\n",
    "            elif policy_int[counter]==0:\n",
    "                plt.text(i+0.5, j+0.7, u'\\u2190', fontsize=12)\n",
    "            else:\n",
    "                plt.text(i+0.5, j+0.7, u'\\u2192', fontsize=12)\n",
    "            counter=counter+1\n",
    "\n",
    "    plt.title('Heatmap of policy iteration with value function values and directions')\n",
    "    print('Value Function',value_func)\n",
    "    print('Policy',policy_int)\n",
    "    plt.show()"
   ],
   "metadata": {
    "collapsed": false,
    "pycharm": {
     "name": "#%%\n"
    }
   }
  },
  {
   "cell_type": "code",
   "execution_count": 19,
   "outputs": [
    {
     "name": "stderr",
     "output_type": "stream",
     "text": [
      "Policy Iteration Experiment:   2%|▏         | 2/81 [00:04<03:01,  2.30s/it]\n"
     ]
    },
    {
     "ename": "KeyboardInterrupt",
     "evalue": "",
     "output_type": "error",
     "traceback": [
      "\u001B[1;31m---------------------------------------------------------------------------\u001B[0m",
      "\u001B[1;31mKeyboardInterrupt\u001B[0m                         Traceback (most recent call last)",
      "Cell \u001B[1;32mIn [19], line 74\u001B[0m\n\u001B[0;32m     71\u001B[0m         \u001B[38;5;28;01mwith\u001B[39;00m \u001B[38;5;28mopen\u001B[39m(\u001B[38;5;124mf\u001B[39m\u001B[38;5;124m'\u001B[39m\u001B[38;5;124martifacts/pendulum_policy_iteration/\u001B[39m\u001B[38;5;132;01m{\u001B[39;00mtime\u001B[38;5;241m.\u001B[39mtime_ns()\u001B[38;5;132;01m}\u001B[39;00m\u001B[38;5;124m.json\u001B[39m\u001B[38;5;124m'\u001B[39m, \u001B[38;5;124m'\u001B[39m\u001B[38;5;124mw\u001B[39m\u001B[38;5;124m'\u001B[39m) \u001B[38;5;28;01mas\u001B[39;00m f:\n\u001B[0;32m     72\u001B[0m             json\u001B[38;5;241m.\u001B[39mdump(result, f)\n\u001B[1;32m---> 74\u001B[0m \u001B[43mrun\u001B[49m\u001B[43m(\u001B[49m\u001B[43m)\u001B[49m\n",
      "Cell \u001B[1;32mIn [19], line 53\u001B[0m, in \u001B[0;36mrun\u001B[1;34m()\u001B[0m\n\u001B[0;32m     51\u001B[0m \u001B[38;5;28;01mfor\u001B[39;00m _ \u001B[38;5;129;01min\u001B[39;00m \u001B[38;5;28mrange\u001B[39m(\u001B[38;5;28mint\u001B[39m(n_iteration)):\n\u001B[0;32m     52\u001B[0m     policy \u001B[38;5;241m=\u001B[39m policy_improvement(V, policy, env\u001B[38;5;241m.\u001B[39mP, num_actions, num_states, gamma\u001B[38;5;241m=\u001B[39mgamma)\n\u001B[1;32m---> 53\u001B[0m     differences, new_V \u001B[38;5;241m=\u001B[39m \u001B[43mpolicy_evaluation\u001B[49m\u001B[43m(\u001B[49m\u001B[43mpolicy\u001B[49m\u001B[43m,\u001B[49m\u001B[43m \u001B[49m\u001B[43menv\u001B[49m\u001B[38;5;241;43m.\u001B[39;49m\u001B[43mP\u001B[49m\u001B[43m,\u001B[49m\u001B[43m \u001B[49m\u001B[43mnum_states\u001B[49m\u001B[43m,\u001B[49m\u001B[43m \u001B[49m\u001B[43mepsilon\u001B[49m\u001B[38;5;241;43m=\u001B[39;49m\u001B[43mepsilon\u001B[49m\u001B[43m,\u001B[49m\u001B[43m \u001B[49m\u001B[43mgamma\u001B[49m\u001B[38;5;241;43m=\u001B[39;49m\u001B[43mgamma\u001B[49m\u001B[43m)\u001B[49m\n\u001B[0;32m     54\u001B[0m     policy_eval_differences\u001B[38;5;241m.\u001B[39mappend(differences)\n\u001B[0;32m     55\u001B[0m     iteration_differences\u001B[38;5;241m.\u001B[39mappend(l2(V, new_V))\n",
      "Cell \u001B[1;32mIn [19], line 3\u001B[0m, in \u001B[0;36mpolicy_evaluation\u001B[1;34m(policy, P, nS, max_iter, epsilon, gamma)\u001B[0m\n\u001B[0;32m      1\u001B[0m \u001B[38;5;28;01mdef\u001B[39;00m \u001B[38;5;21mpolicy_evaluation\u001B[39m(policy, P, nS, max_iter\u001B[38;5;241m=\u001B[39m\u001B[38;5;241m10000\u001B[39m, epsilon\u001B[38;5;241m=\u001B[39m\u001B[38;5;241m1e-6\u001B[39m, gamma\u001B[38;5;241m=\u001B[39m\u001B[38;5;241m0.9\u001B[39m):\n\u001B[0;32m      2\u001B[0m     V \u001B[38;5;241m=\u001B[39m np\u001B[38;5;241m.\u001B[39mzeros(nS)\n\u001B[1;32m----> 3\u001B[0m     new_V \u001B[38;5;241m=\u001B[39m \u001B[43mV\u001B[49m\u001B[38;5;241;43m.\u001B[39;49m\u001B[43mcopy\u001B[49m\u001B[43m(\u001B[49m\u001B[43m)\u001B[49m \u001B[38;5;66;03m# todo: double check if new_V should be here\u001B[39;00m\n\u001B[0;32m      4\u001B[0m     differences \u001B[38;5;241m=\u001B[39m []\n\u001B[0;32m      5\u001B[0m     \u001B[38;5;28;01mfor\u001B[39;00m i \u001B[38;5;129;01min\u001B[39;00m \u001B[38;5;28mrange\u001B[39m(max_iter):\n",
      "\u001B[1;31mKeyboardInterrupt\u001B[0m: "
     ]
    }
   ],
   "source": [
    "def policy_evaluation(policy, P, nS, max_iter=10000, epsilon=1e-6, gamma=0.9):\n",
    "    V = np.zeros(nS)\n",
    "    new_V = V.copy() # todo: double check if new_V should be here\n",
    "    differences = []\n",
    "    for i in range(max_iter):\n",
    "        for s in range(nS):\n",
    "            for prob, next_s, reward, terminal in P[s][policy[s]]:\n",
    "                new_V[s] += prob * (reward + gamma * V[next_s])\n",
    "        max_diff = np.max(np.abs(new_V-V))\n",
    "        differences.append(max_diff)\n",
    "        if max_diff < epsilon:\n",
    "            break\n",
    "        V = new_V\n",
    "    return differences, new_V\n",
    "\n",
    "def test_policy(env, policy, gamma,  n = 100):\n",
    "    def run_episode(env, policy, gamma, render = False):\n",
    "        \"\"\" Evaluates policy by using it to run an episode and finding its\n",
    "        total reward.\n",
    "        args:\n",
    "        env: gym environment.\n",
    "        policy: the policy to be used.\n",
    "        gamma: discount factor.\n",
    "        render: boolean to turn rendering on/off.\n",
    "        returns:\n",
    "        total reward: real value of the total reward recieved by agent under policy.\n",
    "        \"\"\"\n",
    "        obs = env.reset()\n",
    "        total_reward = 0\n",
    "        step_idx = 0\n",
    "        while True:\n",
    "            if render:\n",
    "                env.render()\n",
    "            obs, reward, done , _ = env.step(int(policy[obs]))\n",
    "            total_reward += (gamma ** step_idx * reward)\n",
    "            step_idx += 1\n",
    "            if done:\n",
    "                break\n",
    "        return total_reward\n",
    "    scores = [\n",
    "        run_episode(env, policy, gamma=gamma, render = False)\n",
    "        for _ in range(n)]\n",
    "    return np.mean(scores)\n",
    "\n",
    "def policy_improvement(V, policy, P, nA, nS, gamma):\n",
    "    for s in range(nS):\n",
    "        new_v = [0]*nA\n",
    "        for a in range(nA):\n",
    "            for prob, next_s, reward, terminal in P[s][a]:\n",
    "                new_v[a] += prob * (reward + gamma * V[next_s])\n",
    "        policy[s] = np.argmax(new_v)\n",
    "    return policy\n",
    "\n",
    "def l2(a, b):\n",
    "    s = 0\n",
    "    for i in range(len(a)):\n",
    "        s += (a[i]-b[i])**2\n",
    "    return math.sqrt(s)\n",
    "\n",
    "max_policy_iterations = [1e2, 1e4, 1e6]\n",
    "gammas = [0.1, 0.6, 0.9]\n",
    "epsilons = [0.1, 0.001, 0.00001]\n",
    "n_iterations = [1e2, 1e3, 1e4]\n",
    "hyperparameters = list(itertools.product(max_policy_iterations, gammas, epsilons, n_iterations))\n",
    "\n",
    "def run():\n",
    "    env = gym.make('D8x8-FrozenLake-v0')\n",
    "\n",
    "    num_states = env.nS\n",
    "    num_actions = env.nA\n",
    "\n",
    "    for max_iterations, gamma, epsilon, n_iteration in tqdm.tqdm(hyperparameters, desc=\"Policy Iteration Experiment\"):\n",
    "        iteration_differences = []\n",
    "        policy_eval_differences = []\n",
    "        env.reset()\n",
    "        policy = np.zeros(env.nS)\n",
    "        start_time = time.process_time()\n",
    "        differences, V = policy_evaluation(policy, env.P, env.nS, max_iter=int(max_iterations), epsilon=epsilon, gamma=gamma)\n",
    "        policy_eval_differences.append(differences)\n",
    "        for _ in range(int(n_iteration)):\n",
    "            policy = policy_improvement(V, policy, env.P, num_actions, num_states, gamma=gamma)\n",
    "            differences, new_V = policy_evaluation(policy, env.P, num_states, epsilon=epsilon, gamma=gamma)\n",
    "            policy_eval_differences.append(differences)\n",
    "            iteration_differences.append(l2(V, new_V))\n",
    "            V = new_V\n",
    "        wall_time = time.process_time() - start_time\n",
    "\n",
    "        average_test_score = test_policy(env, policy, gamma)\n",
    "\n",
    "        result = {\n",
    "            'iteration_differences': iteration_differences,\n",
    "            'policy_eval_differences': policy_eval_differences,\n",
    "            'V': V.tolist(),\n",
    "            'policy': policy.tolist(),\n",
    "            'n_iterations': n_iteration,\n",
    "            'gamma': gamma,\n",
    "            'max_iterations': max_iterations,\n",
    "            'epsilon': epsilon,\n",
    "            'wall_time': wall_time,\n",
    "            'average_test_score': average_test_score\n",
    "        }\n",
    "\n",
    "        with open(f'artifacts/pendulum_policy_iteration/{time.time_ns()}.json', 'w') as f:\n",
    "            json.dump(result, f)\n",
    "\n",
    "run()"
   ],
   "metadata": {
    "collapsed": false,
    "pycharm": {
     "name": "#%%\n"
    }
   }
  },
  {
   "cell_type": "code",
   "execution_count": 34,
   "metadata": {
    "pycharm": {
     "name": "#%%\n"
    }
   },
   "outputs": [
    {
     "name": "stdout",
     "output_type": "stream",
     "text": [
      "Value Function [0.06888452 0.06140916 0.07440581 0.05580298 0.09184873 0.\n",
      " 0.11220608 0.         0.14543165 0.24749378 0.29961536 0.\n",
      " 0.         0.37993361 0.63901895 0.        ]\n",
      "Policy [0, 3, 0, 3, 0, 0, 0, 0, 3, 1, 0, 0, 0, 2, 1, 0]\n"
     ]
    },
    {
     "data": {
      "image/png": "[encoded data removed]",
      "text/plain": [
       "<Figure size 792x648 with 2 Axes>"
      ]
     },
     "metadata": {},
     "output_type": "display_data"
    },
    {
     "name": "stdout",
     "output_type": "stream",
     "text": [
      "\n",
      "\u001B[41mS\u001B[0mFFF\n",
      "FHFH\n",
      "FFFH\n",
      "HFFG\n"
     ]
    }
   ],
   "source": [
    "fancy_visual(V, policy)\n",
    "env.render()"
   ]
  },
  {
   "cell_type": "code",
   "execution_count": 35,
   "metadata": {
    "pycharm": {
     "name": "#%%\n"
    }
   },
   "outputs": [
    {
     "name": "stdout",
     "output_type": "stream",
     "text": [
      "Optimal Q function\n"
     ]
    },
    {
     "data": {
      "text/plain": [
       "array([[0.06888533, 0.06664272, 0.06664272, 0.05975346],\n",
       "       [0.0390881 , 0.0429871 , 0.04074449, 0.06140985],\n",
       "       [0.07440632, 0.06882547, 0.07272446, 0.05748539],\n",
       "       [0.03906264, 0.03906264, 0.03348179, 0.05580353],\n",
       "       [0.09184947, 0.07118411, 0.06429485, 0.04821997],\n",
       "       [0.        , 0.        , 0.        , 0.        ],\n",
       "       [0.11220635, 0.08988461, 0.11220635, 0.02232174],\n",
       "       [0.        , 0.        , 0.        , 0.        ],\n",
       "       [0.07118411, 0.11787763, 0.10180275, 0.14543225],\n",
       "       [0.15760958, 0.24749419, 0.20386469, 0.1335141 ],\n",
       "       [0.29961565, 0.26595382, 0.22536751, 0.10790996],\n",
       "       [0.        , 0.        , 0.        , 0.        ],\n",
       "       [0.        , 0.        , 0.        , 0.        ],\n",
       "       [0.18822822, 0.30568577, 0.3799339 , 0.26595382],\n",
       "       [0.39557038, 0.6390191 , 0.61492363, 0.53719803],\n",
       "       [0.        , 0.        , 0.        , 0.        ]])"
      ]
     },
     "execution_count": 35,
     "metadata": {},
     "output_type": "execute_result"
    }
   ],
   "source": [
    "def q_func(V, P, nA, nS):\n",
    "    q = np.zeros((nS, nA))\n",
    "    for s in range(nS):\n",
    "        for a in range(nA):\n",
    "            for prob, next_s, reward, terminal in P[s][a]:\n",
    "                q[s][a] += prob * (reward + gamma * V[next_s])\n",
    "    return q\n",
    "\n",
    "print('Optimal Q function')\n",
    "q_func(V, env.P, env.nA, env.nS)"
   ]
  }
 ],
 "metadata": {
  "kernelspec": {
   "display_name": "Python 3",
   "language": "python",
   "name": "python3"
  },
  "language_info": {
   "codemirror_mode": {
    "name": "ipython",
    "version": 3
   },
   "file_extension": ".py",
   "mimetype": "text/x-python",
   "name": "python",
   "nbconvert_exporter": "python",
   "pygments_lexer": "ipython3",
   "version": "3.7.0"
  }
 },
 "nbformat": 4,
 "nbformat_minor": 2
}