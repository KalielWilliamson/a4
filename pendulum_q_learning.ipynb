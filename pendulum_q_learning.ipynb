{
 "cells": [
  {
   "cell_type": "code",
   "execution_count": 29,
   "metadata": {
    "collapsed": true,
    "pycharm": {
     "name": "#%%\n"
    }
   },
   "outputs": [],
   "source": [
    "import itertools\n",
    "import json\n",
    "import math\n",
    "import sys\n",
    "import time\n",
    "\n",
    "import numpy as np\n",
    "import gym\n",
    "import tqdm\n",
    "from matplotlib.pyplot import subplot, plot, legend, show\n",
    "\n",
    "env = gym.make('Pendulum-v1', g=9.81)"
   ]
  },
  {
   "cell_type": "code",
   "execution_count": 28,
   "outputs": [],
   "source": [
    "coords = np.array([(np.cos(np.deg2rad(theta)), np.sin(np.deg2rad(theta))) for theta in range(0, 360, 10)])\n",
    "x = coords[:, 0]\n",
    "y = coords[:, 1]\n",
    "\n",
    "# create list of velocity from -8 to 8 in steps of 0.5\n",
    "velocities = np.arange(-8, 8, 1)\n",
    "\n",
    "# combine all possible combinations of coords and velocity\n",
    "possible_states = []\n",
    "for i, j in itertools.product(coords, velocities):\n",
    "    x = i[0]\n",
    "    y = i[1]\n",
    "    possible_states.append((x, y, j))\n",
    "\n",
    "possible_states = np.array(possible_states) # 576 possible states\n",
    "possible_actions = np.arange(-2.0, 2.0, 0.1)"
   ],
   "metadata": {
    "collapsed": false,
    "pycharm": {
     "name": "#%%\n"
    }
   }
  },
  {
   "cell_type": "code",
   "execution_count": 47,
   "outputs": [
    {
     "name": "stderr",
     "output_type": "stream",
     "text": [
      "Experiment Iterations:   0%|          | 0/81 [00:00<?, ?it/s]\n"
     ]
    },
    {
     "ename": "NameError",
     "evalue": "name 'policy' is not defined",
     "output_type": "error",
     "traceback": [
      "\u001B[1;31m---------------------------------------------------------------------------\u001B[0m",
      "\u001B[1;31mNameError\u001B[0m                                 Traceback (most recent call last)",
      "Cell \u001B[1;32mIn [47], line 74\u001B[0m\n\u001B[0;32m     72\u001B[0m Q, training_loss \u001B[38;5;241m=\u001B[39m q_learn(\u001B[38;5;28mint\u001B[39m(max_steps), \u001B[38;5;28mint\u001B[39m(max_iteration), learning_rate, gamma, possible_states, possible_actions)\n\u001B[0;32m     73\u001B[0m wall_time \u001B[38;5;241m=\u001B[39m time\u001B[38;5;241m.\u001B[39mprocess_time() \u001B[38;5;241m-\u001B[39m start_time\n\u001B[1;32m---> 74\u001B[0m average_test_score \u001B[38;5;241m=\u001B[39m test_policy(env, \u001B[43mpolicy\u001B[49m, gamma)\n\u001B[0;32m     75\u001B[0m results \u001B[38;5;241m=\u001B[39m {\n\u001B[0;32m     76\u001B[0m     \u001B[38;5;124m'\u001B[39m\u001B[38;5;124mmax_iteration\u001B[39m\u001B[38;5;124m'\u001B[39m: max_iteration,\n\u001B[0;32m     77\u001B[0m     \u001B[38;5;124m'\u001B[39m\u001B[38;5;124mmax_steps\u001B[39m\u001B[38;5;124m'\u001B[39m: max_steps,\n\u001B[1;32m   (...)\u001B[0m\n\u001B[0;32m     82\u001B[0m     \u001B[38;5;124m'\u001B[39m\u001B[38;5;124mQ\u001B[39m\u001B[38;5;124m'\u001B[39m: Q\u001B[38;5;241m.\u001B[39mtolist()\n\u001B[0;32m     83\u001B[0m }\n\u001B[0;32m     84\u001B[0m \u001B[38;5;28;01mwith\u001B[39;00m \u001B[38;5;28mopen\u001B[39m(\u001B[38;5;124mf\u001B[39m\u001B[38;5;124m'\u001B[39m\u001B[38;5;124martifacts/pendulum_q_learning/\u001B[39m\u001B[38;5;132;01m{\u001B[39;00mtime\u001B[38;5;241m.\u001B[39mtime_ns()\u001B[38;5;132;01m}\u001B[39;00m\u001B[38;5;124m.json\u001B[39m\u001B[38;5;124m'\u001B[39m, \u001B[38;5;124m'\u001B[39m\u001B[38;5;124mw\u001B[39m\u001B[38;5;124m'\u001B[39m) \u001B[38;5;28;01mas\u001B[39;00m f:\n",
      "\u001B[1;31mNameError\u001B[0m: name 'policy' is not defined"
     ]
    }
   ],
   "source": [
    "def descretize_state(state, possible_states):\n",
    "    index = np.argmin(np.linalg.norm(possible_states - state, axis=1))\n",
    "    return index, possible_states[index]\n",
    "\n",
    "def low_pass(data, alpha=0.99):\n",
    "    low_pass = [data[0]]\n",
    "    for i in range(1,len(data)):\n",
    "        low_pass.append(alpha*low_pass[-1] + (1.0-alpha)*data[i] )\n",
    "    return low_pass\n",
    "\n",
    "def q_learn(max_iteration, max_steps, learning_rate, gamma, possible_states, possible_actions):\n",
    "    Q = np.zeros([len(possible_states),len(possible_actions)])\n",
    "    training_loss = []\n",
    "    for i in range(max_iteration):\n",
    "        state = env.reset()\n",
    "        s_idx, state = descretize_state(state, possible_states)\n",
    "        reward_sum = 0.0\n",
    "\n",
    "        for _ in range(max_steps):\n",
    "            action_list = Q[s_idx,:]\n",
    "            fuzzy_actions = action_list + np.random.randn(1,len(possible_actions))*(1. / (i + 1))\n",
    "            selected_action = np.argmax(fuzzy_actions)\n",
    "            env.state = state\n",
    "            new_state, reward, done, _ = env.step(possible_states[selected_action])\n",
    "            next_sidx, next_state = descretize_state(new_state, possible_states)\n",
    "            Q[s_idx,selected_action] = Q[s_idx,selected_action] + learning_rate*(reward + gamma * np.max(Q[next_sidx,:]) - Q[s_idx,selected_action])\n",
    "            s_idx = next_sidx\n",
    "            reward_sum += reward\n",
    "            if done:\n",
    "                break\n",
    "            training_loss.append(reward_sum)\n",
    "        return Q, training_loss\n",
    "\n",
    "max_steps = [1e2, 1e3, 1e4]\n",
    "max_iters = [1e2, 1e4, 1e6]\n",
    "gammas = [0.1, 0.6, 0.9]\n",
    "learning_rates = [0.1, 0.5, 0.9]\n",
    "hyperparameters = list(itertools.product(max_steps, max_iters, gammas, learning_rates))\n",
    "\n",
    "for args in tqdm.tqdm(hyperparameters, desc=\"Experiment Iterations\"):\n",
    "    max_steps, max_iteration, gamma, learning_rate = args\n",
    "    start_time = time.process_time()\n",
    "    Q, training_loss = q_learn(int(max_steps), int(max_iteration), learning_rate, gamma, possible_states, possible_actions)\n",
    "    wall_time = time.process_time() - start_time\n",
    "    results = {\n",
    "        'max_iteration': max_iteration,\n",
    "        'max_steps': max_steps,\n",
    "        'gamma': gamma,\n",
    "        'learning_rate': learning_rate,\n",
    "        'wall_time': wall_time,\n",
    "        'training_loss': training_loss,\n",
    "        'Q': Q.tolist()\n",
    "    }\n",
    "    with open(f'artifacts/pendulum_q_learning/{time.time_ns()}.json', 'w') as f:\n",
    "        json.dump(results, f)"
   ],
   "metadata": {
    "collapsed": false,
    "pycharm": {
     "name": "#%%\n"
    }
   }
  },
  {
   "cell_type": "code",
   "execution_count": null,
   "outputs": [],
   "source": [],
   "metadata": {
    "collapsed": false,
    "pycharm": {
     "name": "#%%\n"
    }
   }
  }
 ],
 "metadata": {
  "kernelspec": {
   "display_name": "Python 3",
   "language": "python",
   "name": "python3"
  },
  "language_info": {
   "codemirror_mode": {
    "name": "ipython",
    "version": 2
   },
   "file_extension": ".py",
   "mimetype": "text/x-python",
   "name": "python",
   "nbconvert_exporter": "python",
   "pygments_lexer": "ipython2",
   "version": "2.7.6"
  }
 },
 "nbformat": 4,
 "nbformat_minor": 0
}