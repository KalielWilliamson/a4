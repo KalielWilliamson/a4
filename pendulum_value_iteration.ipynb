{
 "cells": [
  {
   "cell_type": "code",
   "execution_count": 9,
   "metadata": {
    "collapsed": true,
    "pycharm": {
     "name": "#%%\n"
    }
   },
   "outputs": [],
   "source": [
    "import itertools\n",
    "import json\n",
    "import time\n",
    "\n",
    "import gym\n",
    "import numpy as np\n",
    "import tqdm\n",
    "\n",
    "env = gym.make('Pendulum-v1', g=9.81)"
   ]
  },
  {
   "cell_type": "code",
   "execution_count": 10,
   "outputs": [],
   "source": [
    "coords = np.array([(np.cos(np.deg2rad(theta)), np.sin(np.deg2rad(theta))) for theta in range(0, 360, 10)])\n",
    "x = coords[:, 0]\n",
    "y = coords[:, 1]\n",
    "\n",
    "# create list of velocity from -8 to 8 in steps of 0.5\n",
    "velocities = np.arange(-8, 8, 1)\n",
    "\n",
    "# combine all possible combinations of coords and velocity\n",
    "possible_states = []\n",
    "for i, j in itertools.product(coords, velocities):\n",
    "    x = i[0]\n",
    "    y = i[1]\n",
    "    possible_states.append((x, y, j))\n",
    "possible_states = np.array(possible_states) # 576 possible states\n",
    "possible_actions = np.arange(-2.0, 2.0, 0.1)"
   ],
   "metadata": {
    "collapsed": false,
    "pycharm": {
     "name": "#%%\n"
    }
   }
  },
  {
   "cell_type": "code",
   "execution_count": 18,
   "outputs": [
    {
     "name": "stderr",
     "output_type": "stream",
     "text": [
      "Training:   7%|▋         | 2/27 [01:01<12:43, 30.55s/it]\n"
     ]
    },
    {
     "ename": "KeyboardInterrupt",
     "evalue": "",
     "output_type": "error",
     "traceback": [
      "\u001B[1;31m---------------------------------------------------------------------------\u001B[0m",
      "\u001B[1;31mKeyboardInterrupt\u001B[0m                         Traceback (most recent call last)",
      "Cell \u001B[1;32mIn [18], line 96\u001B[0m\n\u001B[0;32m     93\u001B[0m         \u001B[38;5;28;01mwith\u001B[39;00m \u001B[38;5;28mopen\u001B[39m(\u001B[38;5;124mf\u001B[39m\u001B[38;5;124m'\u001B[39m\u001B[38;5;124martifacts/pendulum_value_iteration/\u001B[39m\u001B[38;5;132;01m{\u001B[39;00mtime\u001B[38;5;241m.\u001B[39mtime_ns()\u001B[38;5;132;01m}\u001B[39;00m\u001B[38;5;124m.json\u001B[39m\u001B[38;5;124m'\u001B[39m, \u001B[38;5;124m'\u001B[39m\u001B[38;5;124mw\u001B[39m\u001B[38;5;124m'\u001B[39m) \u001B[38;5;28;01mas\u001B[39;00m f:\n\u001B[0;32m     94\u001B[0m             json\u001B[38;5;241m.\u001B[39mdump(result, f)\n\u001B[1;32m---> 96\u001B[0m \u001B[43mrun\u001B[49m\u001B[43m(\u001B[49m\u001B[43m)\u001B[49m\n",
      "Cell \u001B[1;32mIn [18], line 68\u001B[0m, in \u001B[0;36mrun\u001B[1;34m()\u001B[0m\n\u001B[0;32m     65\u001B[0m max_iter, gamma, epsilon \u001B[38;5;241m=\u001B[39m params\n\u001B[0;32m     67\u001B[0m start_time \u001B[38;5;241m=\u001B[39m time\u001B[38;5;241m.\u001B[39mprocess_time()\n\u001B[1;32m---> 68\u001B[0m V, deltas \u001B[38;5;241m=\u001B[39m \u001B[43mvalue_iteration\u001B[49m\u001B[43m(\u001B[49m\u001B[43menv\u001B[49m\u001B[43m,\u001B[49m\u001B[43m \u001B[49m\u001B[43mpossible_actions\u001B[49m\u001B[43m,\u001B[49m\u001B[43m \u001B[49m\u001B[43mpossible_states\u001B[49m\u001B[43m,\u001B[49m\u001B[43m \u001B[49m\u001B[43mgamma\u001B[49m\u001B[43m,\u001B[49m\u001B[43m \u001B[49m\u001B[43mepsilon\u001B[49m\u001B[43m,\u001B[49m\u001B[43m \u001B[49m\u001B[38;5;28;43mint\u001B[39;49m\u001B[43m(\u001B[49m\u001B[43mmax_iter\u001B[49m\u001B[43m)\u001B[49m\u001B[43m)\u001B[49m\n\u001B[0;32m     69\u001B[0m value_iteration_time \u001B[38;5;241m=\u001B[39m time\u001B[38;5;241m.\u001B[39mprocess_time() \u001B[38;5;241m-\u001B[39m start_time\n\u001B[0;32m     71\u001B[0m start_time \u001B[38;5;241m=\u001B[39m time\u001B[38;5;241m.\u001B[39mprocess_time()\n",
      "Cell \u001B[1;32mIn [18], line 18\u001B[0m, in \u001B[0;36mvalue_iteration\u001B[1;34m(env, possible_actions, possible_states, gamma, epsilon, max_iteration)\u001B[0m\n\u001B[0;32m     16\u001B[0m     env\u001B[38;5;241m.\u001B[39mstate \u001B[38;5;241m=\u001B[39m state\n\u001B[0;32m     17\u001B[0m     next_state, reward, done, _ \u001B[38;5;241m=\u001B[39m env\u001B[38;5;241m.\u001B[39mstep([action])\n\u001B[1;32m---> 18\u001B[0m     idx, next_state \u001B[38;5;241m=\u001B[39m \u001B[43mdescretize_state\u001B[49m\u001B[43m(\u001B[49m\u001B[43mnext_state\u001B[49m\u001B[43m,\u001B[49m\u001B[43m \u001B[49m\u001B[43mpossible_states\u001B[49m\u001B[43m)\u001B[49m\n\u001B[0;32m     19\u001B[0m     q_sa\u001B[38;5;241m.\u001B[39mappend(reward \u001B[38;5;241m+\u001B[39m gamma \u001B[38;5;241m*\u001B[39m prev_v[idx])\n\u001B[0;32m     20\u001B[0m v[i] \u001B[38;5;241m=\u001B[39m \u001B[38;5;28mmax\u001B[39m(q_sa)\n",
      "Cell \u001B[1;32mIn [18], line 4\u001B[0m, in \u001B[0;36mdescretize_state\u001B[1;34m(state, possible_states)\u001B[0m\n\u001B[0;32m      1\u001B[0m \u001B[38;5;28;01mdef\u001B[39;00m \u001B[38;5;21mdescretize_state\u001B[39m(state, possible_states):\n\u001B[0;32m      2\u001B[0m     \u001B[38;5;66;03m# state = (0.9, 0.4, 3.3)\u001B[39;00m\n\u001B[0;32m      3\u001B[0m     \u001B[38;5;66;03m# closest coord according to l2 distance\u001B[39;00m\n\u001B[1;32m----> 4\u001B[0m     index \u001B[38;5;241m=\u001B[39m np\u001B[38;5;241m.\u001B[39margmin(\u001B[43mnp\u001B[49m\u001B[38;5;241;43m.\u001B[39;49m\u001B[43mlinalg\u001B[49m\u001B[38;5;241;43m.\u001B[39;49m\u001B[43mnorm\u001B[49m\u001B[43m(\u001B[49m\u001B[43mpossible_states\u001B[49m\u001B[43m \u001B[49m\u001B[38;5;241;43m-\u001B[39;49m\u001B[43m \u001B[49m\u001B[43mstate\u001B[49m\u001B[43m,\u001B[49m\u001B[43m \u001B[49m\u001B[43maxis\u001B[49m\u001B[38;5;241;43m=\u001B[39;49m\u001B[38;5;241;43m1\u001B[39;49m\u001B[43m)\u001B[49m)\n\u001B[0;32m      5\u001B[0m     \u001B[38;5;28;01mreturn\u001B[39;00m index, possible_states[index]\n",
      "File \u001B[1;32m<__array_function__ internals>:180\u001B[0m, in \u001B[0;36mnorm\u001B[1;34m(*args, **kwargs)\u001B[0m\n",
      "File \u001B[1;32mD:\\conda\\MDP\\lib\\site-packages\\numpy\\linalg\\linalg.py:2557\u001B[0m, in \u001B[0;36mnorm\u001B[1;34m(x, ord, axis, keepdims)\u001B[0m\n\u001B[0;32m   2554\u001B[0m \u001B[38;5;28;01melif\u001B[39;00m \u001B[38;5;28mord\u001B[39m \u001B[38;5;129;01mis\u001B[39;00m \u001B[38;5;28;01mNone\u001B[39;00m \u001B[38;5;129;01mor\u001B[39;00m \u001B[38;5;28mord\u001B[39m \u001B[38;5;241m==\u001B[39m \u001B[38;5;241m2\u001B[39m:\n\u001B[0;32m   2555\u001B[0m     \u001B[38;5;66;03m# special case for speedup\u001B[39;00m\n\u001B[0;32m   2556\u001B[0m     s \u001B[38;5;241m=\u001B[39m (x\u001B[38;5;241m.\u001B[39mconj() \u001B[38;5;241m*\u001B[39m x)\u001B[38;5;241m.\u001B[39mreal\n\u001B[1;32m-> 2557\u001B[0m     \u001B[38;5;28;01mreturn\u001B[39;00m sqrt(\u001B[43madd\u001B[49m\u001B[38;5;241;43m.\u001B[39;49m\u001B[43mreduce\u001B[49m\u001B[43m(\u001B[49m\u001B[43ms\u001B[49m\u001B[43m,\u001B[49m\u001B[43m \u001B[49m\u001B[43maxis\u001B[49m\u001B[38;5;241;43m=\u001B[39;49m\u001B[43maxis\u001B[49m\u001B[43m,\u001B[49m\u001B[43m \u001B[49m\u001B[43mkeepdims\u001B[49m\u001B[38;5;241;43m=\u001B[39;49m\u001B[43mkeepdims\u001B[49m\u001B[43m)\u001B[49m)\n\u001B[0;32m   2558\u001B[0m \u001B[38;5;66;03m# None of the str-type keywords for ord ('fro', 'nuc')\u001B[39;00m\n\u001B[0;32m   2559\u001B[0m \u001B[38;5;66;03m# are valid for vectors\u001B[39;00m\n\u001B[0;32m   2560\u001B[0m \u001B[38;5;28;01melif\u001B[39;00m \u001B[38;5;28misinstance\u001B[39m(\u001B[38;5;28mord\u001B[39m, \u001B[38;5;28mstr\u001B[39m):\n",
      "\u001B[1;31mKeyboardInterrupt\u001B[0m: "
     ]
    }
   ],
   "source": [
    "def descretize_state(state, possible_states):\n",
    "    # state = (0.9, 0.4, 3.3)\n",
    "    # closest coord according to l2 distance\n",
    "    index = np.argmin(np.linalg.norm(possible_states - state, axis=1))\n",
    "    return index, possible_states[index]\n",
    "\n",
    "def value_iteration(env, possible_actions, possible_states, gamma, epsilon, max_iteration):\n",
    "    v = np.zeros(len(possible_states))\n",
    "    deltas = []\n",
    "    for i in range(max_iteration):\n",
    "        prev_v = np.copy(v)\n",
    "        for i, state in enumerate(possible_states):\n",
    "            q_sa = []\n",
    "            for j, action in enumerate(possible_actions):\n",
    "                env.reset()\n",
    "                env.state = state\n",
    "                next_state, reward, done, _ = env.step([action])\n",
    "                idx, next_state = descretize_state(next_state, possible_states)\n",
    "                q_sa.append(reward + gamma * prev_v[idx])\n",
    "            v[i] = max(q_sa)\n",
    "        delta = np.sum(np.fabs(prev_v - v))\n",
    "        deltas.append(delta)\n",
    "        if delta <= epsilon:\n",
    "            print ('Value-iteration converged at iteration# %d.' %(i+1))\n",
    "            break\n",
    "    return v, deltas\n",
    "\n",
    "def policy_iteration(V, env, possible_actions, possible_states, gamma):\n",
    "    new_policy = np.zeros(len(possible_states))\n",
    "    for i, state in enumerate(possible_states):\n",
    "        new_v = np.zeros(len(possible_actions))\n",
    "        for j, action in enumerate(possible_actions):\n",
    "            env.reset()\n",
    "            env.state = state\n",
    "            next_state, reward, done, info = env.step([action])\n",
    "            idx, next_state = descretize_state(next_state, possible_states)\n",
    "            new_v[j] += reward + gamma * V[idx]\n",
    "        new_policy[i] = int(np.argmax(new_v))\n",
    "    return new_policy.astype(np.int32)\n",
    "\n",
    "def test_policy(env, policy, gamma,  n = 100):\n",
    "    def run_episode(env, policy, gamma):\n",
    "        obs = env.reset()\n",
    "        state_index, state = descretize_state(obs, possible_states)\n",
    "        total_reward = 0\n",
    "        step_idx = 0\n",
    "        while True:\n",
    "            action = policy[state_index]\n",
    "            obs, reward, done , _ = env.step([action])\n",
    "            state_index, state = descretize_state(obs, possible_states)\n",
    "            total_reward += (gamma ** step_idx * reward)\n",
    "            step_idx += 1\n",
    "            if done:\n",
    "                break\n",
    "        return total_reward\n",
    "    scores = [run_episode(env, policy, gamma) for _ in range(n)]\n",
    "    return np.mean(scores)\n",
    "\n",
    "def run():\n",
    "    max_iterations = [1e1, 1e2, 1e4, 1e6]\n",
    "    gammas = [0.1, 0.6, 0.9]\n",
    "    epsilons = [1e-1, 1e-3, 1e-5]\n",
    "    hyperparameters = list(itertools.product(max_iterations, gammas, epsilons))\n",
    "    for params in tqdm.tqdm(hyperparameters, 'Training'):\n",
    "        max_iter, gamma, epsilon = params\n",
    "\n",
    "        start_time = time.process_time()\n",
    "        V, deltas = value_iteration(env, possible_actions, possible_states, gamma, epsilon, int(max_iter))\n",
    "        value_iteration_time = time.process_time() - start_time\n",
    "\n",
    "        start_time = time.process_time()\n",
    "        policy = policy_iteration(V, env, possible_actions, possible_states, gamma)\n",
    "        policy_time = time.process_time() - start_time\n",
    "\n",
    "        env.reset()\n",
    "        start_time = time.process_time()\n",
    "        average_policy_score = test_policy(env, policy, gamma, n=1000)\n",
    "        policy_score_time = start_time - time.process_time()\n",
    "\n",
    "        result = {\n",
    "            'average_policy_score': average_policy_score,\n",
    "            'policy': policy.tolist(),\n",
    "            'V': V.tolist(),\n",
    "            'deltas': deltas,\n",
    "            'max_iterations': max_iter,\n",
    "            'gamma': gamma,\n",
    "            'epsilon': epsilon,\n",
    "            'value_iteration_wall_time': value_iteration_time,\n",
    "            'policy_time': policy_time,\n",
    "            'policy_score_time': policy_score_time\n",
    "        }\n",
    "\n",
    "        with open(f'artifacts/pendulum_value_iteration/{time.time_ns()}.json', 'w') as f:\n",
    "            json.dump(result, f)\n",
    "\n",
    "run()"
   ],
   "metadata": {
    "collapsed": false,
    "pycharm": {
     "name": "#%%\n"
    }
   }
  },
  {
   "cell_type": "code",
   "execution_count": null,
   "outputs": [],
   "source": [],
   "metadata": {
    "collapsed": false,
    "pycharm": {
     "name": "#%%\n"
    }
   }
  }
 ],
 "metadata": {
  "kernelspec": {
   "display_name": "Python 3",
   "language": "python",
   "name": "python3"
  },
  "language_info": {
   "codemirror_mode": {
    "name": "ipython",
    "version": 2
   },
   "file_extension": ".py",
   "mimetype": "text/x-python",
   "name": "python",
   "nbconvert_exporter": "python",
   "pygments_lexer": "ipython2",
   "version": "2.7.6"
  }
 },
 "nbformat": 4,
 "nbformat_minor": 0
}