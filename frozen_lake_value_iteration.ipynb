{
 "cells": [
  {
   "cell_type": "code",
   "execution_count": 4,
   "metadata": {
    "collapsed": true,
    "pycharm": {
     "name": "#%%\n"
    }
   },
   "outputs": [
    {
     "name": "stderr",
     "output_type": "stream",
     "text": [
      "Experiment Iterations: 100%|██████████| 27/27 [00:02<00:00, 11.72it/s]\n"
     ]
    }
   ],
   "source": [
    "import itertools\n",
    "import json\n",
    "import time\n",
    "\n",
    "import gym\n",
    "import numpy as np\n",
    "import tqdm\n",
    "\n",
    "\n",
    "def test_policy(env, policy, gamma,  n = 100):\n",
    "    def run_episode(env, policy, gamma):\n",
    "        obs = env.reset()\n",
    "        total_reward = 0\n",
    "        step_idx = 0\n",
    "        while True:\n",
    "            obs, reward, done , _ = env.step(int(policy[obs]))\n",
    "            total_reward += (gamma ** step_idx * reward)\n",
    "            step_idx += 1\n",
    "            if done:\n",
    "                break\n",
    "        return total_reward\n",
    "    scores = [run_episode(env, policy, gamma) for _ in range(n)]\n",
    "    return np.mean(scores)\n",
    "\n",
    "def extract_policy(v, gamma):\n",
    "    policy = np.zeros(env.nS)\n",
    "    for s in range(env.nS):\n",
    "        q_sa = np.zeros(env.action_space.n)\n",
    "        for a in range(env.action_space.n):\n",
    "            for next_sr in env.P[s][a]:\n",
    "                p, s_, r, _ = next_sr\n",
    "                q_sa[a] += (p * (r + gamma * v[s_]))\n",
    "        policy[s] = np.argmax(q_sa)\n",
    "    return policy\n",
    "\n",
    "\n",
    "def value_iteration(env, gamma, epsilon, max_iterations):\n",
    "    V = np.zeros(env.nS)  # initialize value-function\n",
    "    differences = []\n",
    "    for i in range(max_iterations):\n",
    "        prev_v = np.copy(V)\n",
    "        for s in range(env.nS):\n",
    "            q_sa = [sum([p*(r + (gamma * prev_v[s_])) for p, s_, r, _ in env.P[s][a]]) for a in range(env.nA)]\n",
    "            V[s] = max(q_sa)\n",
    "        total_diff = np.sum(np.fabs(prev_v - V))\n",
    "        differences.append(total_diff)\n",
    "        if total_diff <= epsilon:\n",
    "            break\n",
    "    return differences, V\n",
    "\n",
    "max_iterations = [1e1, 1e2, 1e4, 1e6]\n",
    "gammas = [0.1, 0.6, 0.9]\n",
    "epsilons = [1e-1, 1e-3, 1e-5]\n",
    "hyperparameters = list(itertools.product(max_iterations, gammas, epsilons))\n",
    "\n",
    "env = gym.make('FrozenLake8x8-v1')\n",
    "for args in tqdm.tqdm(hyperparameters, desc=\"Experiment Iterations\"):\n",
    "    env.reset()\n",
    "    max_iteration, gamma, epsilon = args\n",
    "\n",
    "    start_time = time.process_time()\n",
    "    differences, V = value_iteration(env, gamma, epsilon=epsilon, max_iterations=int(max_iteration))\n",
    "    value_iteration_wall_time = time.process_time() - start_time\n",
    "\n",
    "    start_time = time.process_time()\n",
    "    policy = extract_policy(V, gamma)\n",
    "    extract_policy_wall_time = time.process_time() - start_time\n",
    "\n",
    "    average_policy_score = test_policy(env, policy, gamma)\n",
    "\n",
    "    result = {\n",
    "        'average_policy_score': average_policy_score,\n",
    "        'policy': policy.tolist(),\n",
    "        'V': V.tolist(),\n",
    "        'differences': differences,\n",
    "        'value_iteration_wall_time': value_iteration_wall_time,\n",
    "        'extract_policy_wall_time': extract_policy_wall_time,\n",
    "        'gamma': gamma,\n",
    "        'epsilon': epsilon,\n",
    "        'max_iterations': max_iteration\n",
    "    }\n",
    "\n",
    "    with open(f'artifacts/frozen_lake_value_iteration/{time.time_ns()}.json', 'w') as f:\n",
    "        json.dump(result, f)"
   ]
  },
  {
   "cell_type": "code",
   "execution_count": null,
   "outputs": [],
   "source": [],
   "metadata": {
    "collapsed": false,
    "pycharm": {
     "name": "#%%\n"
    }
   }
  }
 ],
 "metadata": {
  "kernelspec": {
   "display_name": "Python 3",
   "language": "python",
   "name": "python3"
  },
  "language_info": {
   "codemirror_mode": {
    "name": "ipython",
    "version": 2
   },
   "file_extension": ".py",
   "mimetype": "text/x-python",
   "name": "python",
   "nbconvert_exporter": "python",
   "pygments_lexer": "ipython2",
   "version": "2.7.6"
  }
 },
 "nbformat": 4,
 "nbformat_minor": 0
}